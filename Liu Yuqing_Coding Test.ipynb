{
 "cells": [
  {
   "cell_type": "markdown",
   "metadata": {},
   "source": [
    "# Rakuten Fresh Grad Coding Test\n",
    "\n",
    "Name: Liu Yuqing\n",
    "Email: yqliu.2017@mitb.smu.edu.sg\n",
    "Tel: +65 83479891"
   ]
  },
  {
   "cell_type": "code",
   "execution_count": 23,
   "metadata": {},
   "outputs": [
    {
     "name": "stdout",
     "output_type": "stream",
     "text": [
      "ProductID: 978155192370 | ISBN-10 number: 155192370x\n",
      "ProductID: 978140007917 | ISBN-10 number: 1400079179\n",
      "ProductID: 978037541457 | ISBN-10 number: 0375414576\n",
      "ProductID: 978037428158 | ISBN-10 number: 0374281580\n"
     ]
    }
   ],
   "source": [
    "# Test Cases\n",
    "# 978155192370 155192370x\n",
    "# 978140007917 1400079179\n",
    "# 978037541457 0375414576\n",
    "# 978037428158 0374281580 \n",
    "\n",
    "# Enter ProductID as input here\n",
    "ProductIDlist=[978155192370,978140007917,978037541457,978037428158]\n",
    "\n",
    "# Function Definition\n",
    "def ISBN(ID):\n",
    "    pre_checkdigit = 0\n",
    "    id_string=str(ID)                #Convert ProductID to string type\n",
    "    ISBN_partial = id_string[3:]     #Remove first 3 digits of ProductID\n",
    "# Calculate CheckSum of remained 9 digits   \n",
    "# Convert string type back to integer\n",
    "    formula = (int(ISBN_partial[0])*10) + (int(ISBN_partial[1])*9) + (int(ISBN_partial[2])*8) + (int(ISBN_partial[3])*7)+ (int(ISBN_partial[4])*6)+ (int(ISBN_partial[5])*5)+ (int(ISBN_partial[6])*4) + (int(ISBN_partial[7])*3)+ (int(ISBN_partial[8])*2)\n",
    "    \n",
    "    pre_checkdigit = (11-(formula%11))\n",
    "\n",
    "# Calculate last digit to detect error\n",
    "    if pre_checkdigit == 11:\n",
    "        final_checkdigit = 0\n",
    "    elif pre_checkdigit == 10:\n",
    "        final_checkdigit = 'x'\n",
    "    else:\n",
    "        final_checkdigit = pre_checkdigit\n",
    "# Print Results\n",
    "    print(\"ProductID: \"+ str(ID) +\" | ISBN-10 number: \"+ str(ISBN_partial)+str(final_checkdigit))\n",
    "\n",
    "# Unit Test for each of the case\n",
    "for each in ProductIDlist:\n",
    "    ISBN(each)\n",
    "    "
   ]
  },
  {
   "cell_type": "code",
   "execution_count": null,
   "metadata": {
    "collapsed": true
   },
   "outputs": [],
   "source": []
  }
 ],
 "metadata": {
  "kernelspec": {
   "display_name": "Python 3",
   "language": "python",
   "name": "python3"
  },
  "language_info": {
   "codemirror_mode": {
    "name": "ipython",
    "version": 3
   },
   "file_extension": ".py",
   "mimetype": "text/x-python",
   "name": "python",
   "nbconvert_exporter": "python",
   "pygments_lexer": "ipython3",
   "version": "3.6.3"
  }
 },
 "nbformat": 4,
 "nbformat_minor": 2
}
